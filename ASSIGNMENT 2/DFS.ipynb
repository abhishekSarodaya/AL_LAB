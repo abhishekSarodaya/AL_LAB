{
  "nbformat": 4,
  "nbformat_minor": 0,
  "metadata": {
    "colab": {
      "provenance": []
    },
    "kernelspec": {
      "name": "python3",
      "display_name": "Python 3"
    },
    "language_info": {
      "name": "python"
    }
  },
  "cells": [
    {
      "cell_type": "code",
      "execution_count": 1,
      "metadata": {
        "id": "RgcvNzmheOc7",
        "outputId": "4da5d8a7-bb57-4f92-9275-e683984a07c5",
        "colab": {
          "base_uri": "https://localhost:8080/"
        }
      },
      "outputs": [
        {
          "output_type": "stream",
          "name": "stdout",
          "text": [
            "DFS Traversal:\n",
            "A B D E H C F G "
          ]
        }
      ],
      "source": [
        "def dfs_iterative(graph, start):\n",
        "    visited = set()\n",
        "    stack = [start]\n",
        "\n",
        "    while stack:\n",
        "        node = stack.pop()  # LIFO order\n",
        "        if node not in visited:\n",
        "            print(node, end=\" \")  # Process the node\n",
        "            visited.add(node)\n",
        "            stack.extend(reversed(graph[node]))  # Reverse to maintain order\n",
        "\n",
        "graph = {\n",
        "    'A': ['B', 'C'],\n",
        "    'B': ['A', 'D', 'E'],\n",
        "    'C': ['A', 'F', 'G'],\n",
        "    'D': ['B'],\n",
        "    'E': ['B', 'H'],\n",
        "    'F': ['C'],\n",
        "    'G': ['C'],\n",
        "    'H': ['E']\n",
        "}\n",
        "\n",
        "\n",
        "print(\"DFS Traversal:\")\n",
        "dfs_iterative(graph, 'A')"
      ]
    },
    {
      "cell_type": "code",
      "source": [],
      "metadata": {
        "id": "ds_XV_cjeQZc"
      },
      "execution_count": null,
      "outputs": []
    }
  ]
}