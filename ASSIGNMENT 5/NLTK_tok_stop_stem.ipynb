{
  "cells": [
    {
      "cell_type": "markdown",
      "id": "8d96df43-8c13-4aeb-8558-8da36b711725",
      "metadata": {
        "id": "8d96df43-8c13-4aeb-8558-8da36b711725"
      },
      "source": [
        "#### Perform text preprocessing on the chosen case study application."
      ]
    },
    {
      "cell_type": "markdown",
      "id": "6490389b-caa2-4361-beb9-2a8af0805996",
      "metadata": {
        "id": "6490389b-caa2-4361-beb9-2a8af0805996"
      },
      "source": [
        "## Tokenization"
      ]
    },
    {
      "cell_type": "code",
      "source": [
        "!pip install nltk\n"
      ],
      "metadata": {
        "colab": {
          "base_uri": "https://localhost:8080/"
        },
        "id": "g4z1aaQvHoTR",
        "outputId": "d2a93a41-3f91-48ec-db33-3cbe6bb9cf2d"
      },
      "id": "g4z1aaQvHoTR",
      "execution_count": null,
      "outputs": [
        {
          "output_type": "stream",
          "name": "stdout",
          "text": [
            "Requirement already satisfied: nltk in /usr/local/lib/python3.11/dist-packages (3.9.1)\n",
            "Requirement already satisfied: click in /usr/local/lib/python3.11/dist-packages (from nltk) (8.1.8)\n",
            "Requirement already satisfied: joblib in /usr/local/lib/python3.11/dist-packages (from nltk) (1.4.2)\n",
            "Requirement already satisfied: regex>=2021.8.3 in /usr/local/lib/python3.11/dist-packages (from nltk) (2024.11.6)\n",
            "Requirement already satisfied: tqdm in /usr/local/lib/python3.11/dist-packages (from nltk) (4.67.1)\n"
          ]
        }
      ]
    },
    {
      "cell_type": "code",
      "source": [
        "nltk.download('punkt')\n",
        "nltk.download('stopwords')\n",
        "nltk.download('wordnet')"
      ],
      "metadata": {
        "colab": {
          "base_uri": "https://localhost:8080/"
        },
        "id": "j7dQXUtUHuaX",
        "outputId": "eb853de1-81eb-4e0e-deb6-1707223464d0"
      },
      "id": "j7dQXUtUHuaX",
      "execution_count": null,
      "outputs": [
        {
          "output_type": "stream",
          "name": "stderr",
          "text": [
            "[nltk_data] Downloading package punkt to /root/nltk_data...\n",
            "[nltk_data]   Package punkt is already up-to-date!\n",
            "[nltk_data] Downloading package stopwords to /root/nltk_data...\n",
            "[nltk_data]   Package stopwords is already up-to-date!\n",
            "[nltk_data] Downloading package wordnet to /root/nltk_data...\n",
            "[nltk_data]   Package wordnet is already up-to-date!\n"
          ]
        },
        {
          "output_type": "execute_result",
          "data": {
            "text/plain": [
              "True"
            ]
          },
          "metadata": {},
          "execution_count": 18
        }
      ]
    },
    {
      "cell_type": "markdown",
      "source": [
        "## **Tokenization**"
      ],
      "metadata": {
        "id": "s21TbH9vKvJn"
      },
      "id": "s21TbH9vKvJn"
    },
    {
      "cell_type": "code",
      "execution_count": null,
      "id": "dd4fdf1d-ff47-4461-bd7d-46a7d92986d7",
      "metadata": {
        "colab": {
          "base_uri": "https://localhost:8080/"
        },
        "id": "dd4fdf1d-ff47-4461-bd7d-46a7d92986d7",
        "outputId": "ae3959a8-e160-43f2-e03c-a9f13ae340d2"
      },
      "outputs": [
        {
          "output_type": "stream",
          "name": "stdout",
          "text": [
            "['Artificial', 'Intelligence', '(', 'AI', ')', 'is', 'a', 'rapidly', 'growing', 'field', 'of', 'computer', 'science', 'that', 'focuses', 'on', 'creating', 'machines', 'capable', 'of', 'performing', 'tasks', 'that', 'typically', 'require', 'human', 'intelligence', '.', 'The', 'history', 'of', 'AI', 'dates', 'back', 'to', 'the', '1950s', 'when', 'pioneers', 'like', 'Alan', 'Turing', 'and', 'John', 'McCarthy', 'laid', 'the', 'groundwork', 'for', 'future', 'developments', '.', 'Today', ',', 'AI', 'is', 'at', 'the', 'forefront', 'of', 'many', 'technological', 'advancements', ',', 'with', 'applications', 'spanning', 'from', 'machine', 'learning', ',', 'natural', 'language', 'processing', ',', 'robotics', ',', 'and', 'computer', 'vision', '.', 'One', 'of', 'the', 'most', 'exciting', 'areas', 'of', 'AI', 'is', 'machine', 'learning', '(', 'ML', ')', ',', 'where', 'algorithms', 'are', 'trained', 'to', 'identify', 'patterns', 'and', 'make', 'decisions', 'based', 'on', 'data', '.', 'This', 'subset', 'of', 'AI', 'allows', 'machines', 'to', 'improve', 'their', 'performance', 'over', 'time', 'as', 'they', 'are', 'exposed', 'to', 'more', 'data', '.', 'Deep', 'learning', ',', 'a', 'subset', 'of', 'machine', 'learning', ',', 'has', 'gained', 'significant', 'attention', 'due', 'to', 'its', 'ability', 'to', 'process', 'vast', 'amounts', 'of', 'data', 'and', 'extract', 'meaningful', 'insights', 'from', 'it', '.', 'Applications', 'of', 'deep', 'learning', 'include', 'image', 'recognition', ',', 'speech', 'recognition', ',', 'and', 'even', 'autonomous', 'driving', '.', 'Another', 'important', 'area', 'of', 'AI', 'is', 'natural', 'language', 'processing', '(', 'NLP', ')', ',', 'which', 'enables', 'computers', 'to', 'understand', 'and', 'generate', 'human', 'language', '.', 'NLP', 'is', 'used', 'in', 'a', 'variety', 'of', 'applications', 'such', 'as', 'chatbots', ',', 'language', 'translation', ',', 'sentiment', 'analysis', ',', 'and', 'text', 'summarization', '.', 'The', 'rise', 'of', 'virtual', 'assistants', 'like', 'Siri', ',', 'Alexa', ',', 'and', 'Google', 'Assistant', 'has', 'shown', 'the', 'potential', 'of', 'NLP', 'to', 'transform', 'the', 'way', 'we', 'interact', 'with', 'technology', '.', 'AI', 'has', 'the', 'potential', 'to', 'revolutionize', 'many', 'industries', ',', 'including', 'healthcare', ',', 'finance', ',', 'education', ',', 'and', 'manufacturing', '.', 'In', 'healthcare', ',', 'AI', 'can', 'assist', 'in', 'diagnosing', 'diseases', ',', 'recommending', 'treatment', 'plans', ',', 'and', 'analyzing', 'medical', 'data', '.', 'In', 'finance', ',', 'AI', 'can', 'help', 'with', 'fraud', 'detection', ',', 'algorithmic', 'trading', ',', 'and', 'customer', 'service', '.', 'In', 'education', ',', 'AI-powered', 'tools', 'can', 'provide', 'personalized', 'learning', 'experiences', ',', 'while', 'in', 'manufacturing', ',', 'AI', 'can', 'improve', 'automation', ',', 'optimize', 'supply', 'chains', ',', 'and', 'predict', 'maintenance', 'needs', '.', 'However', ',', 'the', 'rise', 'of', 'AI', 'also', 'presents', 'challenges', '.', 'Ethical', 'concerns', 'surrounding', 'privacy', ',', 'job', 'displacement', ',', 'and', 'decision-making', 'transparency', 'need', 'to', 'be', 'addressed', '.', 'As', 'AI', 'systems', 'become', 'more', 'autonomous', ',', 'ensuring', 'that', 'they', 'align', 'with', 'human', 'values', 'and', 'principles', 'is', 'crucial', '.', 'Furthermore', ',', 'the', 'development', 'of', 'AI', 'requires', 'collaboration', 'between', 'governments', ',', 'industries', ',', 'and', 'academic', 'institutions', 'to', 'establish', 'proper', 'regulations', 'and', 'guidelines', '.', 'The', 'future', 'of', 'AI', 'is', 'both', 'exciting', 'and', 'uncertain', '.', 'While', 'we', 'are', 'just', 'scratching', 'the', 'surface', 'of', 'what', 'AI', 'can', 'achieve', ',', 'there', 'is', 'no', 'doubt', 'that', 'it', 'will', 'continue', 'to', 'shape', 'the', 'future', 'of', 'humanity', '.', 'The', 'possibilities', 'are', 'endless', ',', 'and', 'with', 'the', 'right', 'approach', ',', 'AI', 'can', 'be', 'used', 'to', 'address', 'some', 'of', 'the', 'world', '’', 's', 'most', 'pressing', 'challenges', '.']\n"
          ]
        },
        {
          "output_type": "stream",
          "name": "stderr",
          "text": [
            "[nltk_data] Downloading package punkt_tab to /root/nltk_data...\n",
            "[nltk_data]   Package punkt_tab is already up-to-date!\n"
          ]
        }
      ],
      "source": [
        "import nltk\n",
        "from nltk.tokenize import word_tokenize\n",
        "\n",
        "# Download the 'punkt_tab' resource if not already downloaded\n",
        "nltk.download('punkt_tab')\n",
        "\n",
        "text_example = \"\"\"Artificial Intelligence (AI) is a rapidly growing field of computer science that focuses on creating machines capable of performing tasks that typically require human intelligence. The history of AI dates back to the 1950s when pioneers like Alan Turing and John McCarthy laid the groundwork for future developments. Today, AI is at the forefront of many technological advancements, with applications spanning from machine learning, natural language processing, robotics, and computer vision.\n",
        "\n",
        "One of the most exciting areas of AI is machine learning (ML), where algorithms are trained to identify patterns and make decisions based on data. This subset of AI allows machines to improve their performance over time as they are exposed to more data. Deep learning, a subset of machine learning, has gained significant attention due to its ability to process vast amounts of data and extract meaningful insights from it. Applications of deep learning include image recognition, speech recognition, and even autonomous driving.\n",
        "\n",
        "Another important area of AI is natural language processing (NLP), which enables computers to understand and generate human language. NLP is used in a variety of applications such as chatbots, language translation, sentiment analysis, and text summarization. The rise of virtual assistants like Siri, Alexa, and Google Assistant has shown the potential of NLP to transform the way we interact with technology.\n",
        "\n",
        "AI has the potential to revolutionize many industries, including healthcare, finance, education, and manufacturing. In healthcare, AI can assist in diagnosing diseases, recommending treatment plans, and analyzing medical data. In finance, AI can help with fraud detection, algorithmic trading, and customer service. In education, AI-powered tools can provide personalized learning experiences, while in manufacturing, AI can improve automation, optimize supply chains, and predict maintenance needs.\n",
        "\n",
        "However, the rise of AI also presents challenges. Ethical concerns surrounding privacy, job displacement, and decision-making transparency need to be addressed. As AI systems become more autonomous, ensuring that they align with human values and principles is crucial. Furthermore, the development of AI requires collaboration between governments, industries, and academic institutions to establish proper regulations and guidelines.\n",
        "\n",
        "The future of AI is both exciting and uncertain. While we are just scratching the surface of what AI can achieve, there is no doubt that it will continue to shape the future of humanity. The possibilities are endless, and with the right approach, AI can be used to address some of the world’s most pressing challenges.\n",
        "\"\"\"\n",
        "\n",
        "tokenized_word = word_tokenize(text_example)\n",
        "print(tokenized_word)"
      ]
    },
    {
      "cell_type": "markdown",
      "id": "9fdd2d52-2da9-4640-95b7-cf04c9ad9677",
      "metadata": {
        "id": "9fdd2d52-2da9-4640-95b7-cf04c9ad9677"
      },
      "source": [
        "### Removing stop words"
      ]
    },
    {
      "cell_type": "code",
      "execution_count": null,
      "id": "f604f2c4-02a8-4966-b3fc-11642cbc161e",
      "metadata": {
        "colab": {
          "base_uri": "https://localhost:8080/"
        },
        "id": "f604f2c4-02a8-4966-b3fc-11642cbc161e",
        "outputId": "2d920a83-3848-4fa7-a2d1-2d9a65efd29a"
      },
      "outputs": [
        {
          "output_type": "stream",
          "name": "stdout",
          "text": [
            "['Artificial', 'Intelligence', '(', 'AI', ')', 'rapidly', 'growing', 'field', 'computer', 'science', 'focuses', 'creating', 'machines', 'capable', 'performing', 'tasks', 'typically', 'require', 'human', 'intelligence', '.', 'The', 'history', 'AI', 'dates', 'back', '1950s', 'pioneers', 'like', 'Alan', 'Turing', 'John', 'McCarthy', 'laid', 'groundwork', 'future', 'developments', '.', 'Today', ',', 'AI', 'forefront', 'many', 'technological', 'advancements', ',', 'applications', 'spanning', 'machine', 'learning', ',', 'natural', 'language', 'processing', ',', 'robotics', ',', 'computer', 'vision', '.', 'One', 'exciting', 'areas', 'AI', 'machine', 'learning', '(', 'ML', ')', ',', 'algorithms', 'trained', 'identify', 'patterns', 'make', 'decisions', 'based', 'data', '.', 'This', 'subset', 'AI', 'allows', 'machines', 'improve', 'performance', 'time', 'exposed', 'data', '.', 'Deep', 'learning', ',', 'subset', 'machine', 'learning', ',', 'gained', 'significant', 'attention', 'due', 'ability', 'process', 'vast', 'amounts', 'data', 'extract', 'meaningful', 'insights', '.', 'Applications', 'deep', 'learning', 'include', 'image', 'recognition', ',', 'speech', 'recognition', ',', 'even', 'autonomous', 'driving', '.', 'Another', 'important', 'area', 'AI', 'natural', 'language', 'processing', '(', 'NLP', ')', ',', 'enables', 'computers', 'understand', 'generate', 'human', 'language', '.', 'NLP', 'used', 'variety', 'applications', 'chatbots', ',', 'language', 'translation', ',', 'sentiment', 'analysis', ',', 'text', 'summarization', '.', 'The', 'rise', 'virtual', 'assistants', 'like', 'Siri', ',', 'Alexa', ',', 'Google', 'Assistant', 'shown', 'potential', 'NLP', 'transform', 'way', 'interact', 'technology', '.', 'AI', 'potential', 'revolutionize', 'many', 'industries', ',', 'including', 'healthcare', ',', 'finance', ',', 'education', ',', 'manufacturing', '.', 'In', 'healthcare', ',', 'AI', 'assist', 'diagnosing', 'diseases', ',', 'recommending', 'treatment', 'plans', ',', 'analyzing', 'medical', 'data', '.', 'In', 'finance', ',', 'AI', 'help', 'fraud', 'detection', ',', 'algorithmic', 'trading', ',', 'customer', 'service', '.', 'In', 'education', ',', 'AI-powered', 'tools', 'provide', 'personalized', 'learning', 'experiences', ',', 'manufacturing', ',', 'AI', 'improve', 'automation', ',', 'optimize', 'supply', 'chains', ',', 'predict', 'maintenance', 'needs', '.', 'However', ',', 'rise', 'AI', 'also', 'presents', 'challenges', '.', 'Ethical', 'concerns', 'surrounding', 'privacy', ',', 'job', 'displacement', ',', 'decision-making', 'transparency', 'need', 'addressed', '.', 'As', 'AI', 'systems', 'become', 'autonomous', ',', 'ensuring', 'align', 'human', 'values', 'principles', 'crucial', '.', 'Furthermore', ',', 'development', 'AI', 'requires', 'collaboration', 'governments', ',', 'industries', ',', 'academic', 'institutions', 'establish', 'proper', 'regulations', 'guidelines', '.', 'The', 'future', 'AI', 'exciting', 'uncertain', '.', 'While', 'scratching', 'surface', 'AI', 'achieve', ',', 'doubt', 'continue', 'shape', 'future', 'humanity', '.', 'The', 'possibilities', 'endless', ',', 'right', 'approach', ',', 'AI', 'used', 'address', 'world', '’', 'pressing', 'challenges', '.']\n"
          ]
        },
        {
          "output_type": "stream",
          "name": "stderr",
          "text": [
            "[nltk_data] Downloading package stopwords to /root/nltk_data...\n",
            "[nltk_data]   Package stopwords is already up-to-date!\n"
          ]
        }
      ],
      "source": [
        "nltk.download('stopwords')\n",
        "from nltk.corpus import stopwords\n",
        "eng_stopwords= stopwords.words('english')\n",
        "\n",
        "# filter stopwords with list comprehension\n",
        "stopwords_remove = [word for word in tokenized_word if word not in eng_stopwords]\n",
        "print(stopwords_remove)\n",
        "\n"
      ]
    },
    {
      "cell_type": "code",
      "source": [
        "import string\n",
        "\n",
        "punctuation_remove = [word for word in tokenized_word if word not in string.punctuation]\n",
        "print(punctuation_remove)"
      ],
      "metadata": {
        "colab": {
          "base_uri": "https://localhost:8080/"
        },
        "id": "brxJQOYnJpZZ",
        "outputId": "68392253-1287-4504-b5f5-edccc9ec629f"
      },
      "id": "brxJQOYnJpZZ",
      "execution_count": null,
      "outputs": [
        {
          "output_type": "stream",
          "name": "stdout",
          "text": [
            "['Artificial', 'Intelligence', 'AI', 'is', 'a', 'rapidly', 'growing', 'field', 'of', 'computer', 'science', 'that', 'focuses', 'on', 'creating', 'machines', 'capable', 'of', 'performing', 'tasks', 'that', 'typically', 'require', 'human', 'intelligence', 'The', 'history', 'of', 'AI', 'dates', 'back', 'to', 'the', '1950s', 'when', 'pioneers', 'like', 'Alan', 'Turing', 'and', 'John', 'McCarthy', 'laid', 'the', 'groundwork', 'for', 'future', 'developments', 'Today', 'AI', 'is', 'at', 'the', 'forefront', 'of', 'many', 'technological', 'advancements', 'with', 'applications', 'spanning', 'from', 'machine', 'learning', 'natural', 'language', 'processing', 'robotics', 'and', 'computer', 'vision', 'One', 'of', 'the', 'most', 'exciting', 'areas', 'of', 'AI', 'is', 'machine', 'learning', 'ML', 'where', 'algorithms', 'are', 'trained', 'to', 'identify', 'patterns', 'and', 'make', 'decisions', 'based', 'on', 'data', 'This', 'subset', 'of', 'AI', 'allows', 'machines', 'to', 'improve', 'their', 'performance', 'over', 'time', 'as', 'they', 'are', 'exposed', 'to', 'more', 'data', 'Deep', 'learning', 'a', 'subset', 'of', 'machine', 'learning', 'has', 'gained', 'significant', 'attention', 'due', 'to', 'its', 'ability', 'to', 'process', 'vast', 'amounts', 'of', 'data', 'and', 'extract', 'meaningful', 'insights', 'from', 'it', 'Applications', 'of', 'deep', 'learning', 'include', 'image', 'recognition', 'speech', 'recognition', 'and', 'even', 'autonomous', 'driving', 'Another', 'important', 'area', 'of', 'AI', 'is', 'natural', 'language', 'processing', 'NLP', 'which', 'enables', 'computers', 'to', 'understand', 'and', 'generate', 'human', 'language', 'NLP', 'is', 'used', 'in', 'a', 'variety', 'of', 'applications', 'such', 'as', 'chatbots', 'language', 'translation', 'sentiment', 'analysis', 'and', 'text', 'summarization', 'The', 'rise', 'of', 'virtual', 'assistants', 'like', 'Siri', 'Alexa', 'and', 'Google', 'Assistant', 'has', 'shown', 'the', 'potential', 'of', 'NLP', 'to', 'transform', 'the', 'way', 'we', 'interact', 'with', 'technology', 'AI', 'has', 'the', 'potential', 'to', 'revolutionize', 'many', 'industries', 'including', 'healthcare', 'finance', 'education', 'and', 'manufacturing', 'In', 'healthcare', 'AI', 'can', 'assist', 'in', 'diagnosing', 'diseases', 'recommending', 'treatment', 'plans', 'and', 'analyzing', 'medical', 'data', 'In', 'finance', 'AI', 'can', 'help', 'with', 'fraud', 'detection', 'algorithmic', 'trading', 'and', 'customer', 'service', 'In', 'education', 'AI-powered', 'tools', 'can', 'provide', 'personalized', 'learning', 'experiences', 'while', 'in', 'manufacturing', 'AI', 'can', 'improve', 'automation', 'optimize', 'supply', 'chains', 'and', 'predict', 'maintenance', 'needs', 'However', 'the', 'rise', 'of', 'AI', 'also', 'presents', 'challenges', 'Ethical', 'concerns', 'surrounding', 'privacy', 'job', 'displacement', 'and', 'decision-making', 'transparency', 'need', 'to', 'be', 'addressed', 'As', 'AI', 'systems', 'become', 'more', 'autonomous', 'ensuring', 'that', 'they', 'align', 'with', 'human', 'values', 'and', 'principles', 'is', 'crucial', 'Furthermore', 'the', 'development', 'of', 'AI', 'requires', 'collaboration', 'between', 'governments', 'industries', 'and', 'academic', 'institutions', 'to', 'establish', 'proper', 'regulations', 'and', 'guidelines', 'The', 'future', 'of', 'AI', 'is', 'both', 'exciting', 'and', 'uncertain', 'While', 'we', 'are', 'just', 'scratching', 'the', 'surface', 'of', 'what', 'AI', 'can', 'achieve', 'there', 'is', 'no', 'doubt', 'that', 'it', 'will', 'continue', 'to', 'shape', 'the', 'future', 'of', 'humanity', 'The', 'possibilities', 'are', 'endless', 'and', 'with', 'the', 'right', 'approach', 'AI', 'can', 'be', 'used', 'to', 'address', 'some', 'of', 'the', 'world', '’', 's', 'most', 'pressing', 'challenges']\n"
          ]
        }
      ]
    },
    {
      "cell_type": "markdown",
      "id": "1bf5288e-70bd-4cc9-873b-40120e127262",
      "metadata": {
        "id": "1bf5288e-70bd-4cc9-873b-40120e127262"
      },
      "source": [
        "## Stemming"
      ]
    },
    {
      "cell_type": "code",
      "execution_count": null,
      "id": "ac4f3abb-22fd-4396-b20a-180299f35076",
      "metadata": {
        "colab": {
          "base_uri": "https://localhost:8080/"
        },
        "id": "ac4f3abb-22fd-4396-b20a-180299f35076",
        "outputId": "baa3ee63-ee2f-48c8-ea67-35a303130002"
      },
      "outputs": [
        {
          "output_type": "stream",
          "name": "stdout",
          "text": [
            "Stemmed Tokens :['artifici', 'intellig', 'ai', 'is', 'a', 'rapidli', 'grow', 'field', 'of', 'comput', 'scienc', 'that', 'focus', 'on', 'creat', 'machin', 'capabl', 'of', 'perform', 'task', 'that', 'typic', 'requir', 'human', 'intellig', 'the', 'histori', 'of', 'ai', 'date', 'back', 'to', 'the', '1950', 'when', 'pioneer', 'like', 'alan', 'ture', 'and', 'john', 'mccarthi', 'laid', 'the', 'groundwork', 'for', 'futur', 'develop', 'today', 'ai', 'is', 'at', 'the', 'forefront', 'of', 'mani', 'technolog', 'advanc', 'with', 'applic', 'span', 'from', 'machin', 'learn', 'natur', 'languag', 'process', 'robot', 'and', 'comput', 'vision', 'one', 'of', 'the', 'most', 'excit', 'area', 'of', 'ai', 'is', 'machin', 'learn', 'ml', 'where', 'algorithm', 'are', 'train', 'to', 'identifi', 'pattern', 'and', 'make', 'decis', 'base', 'on', 'data', 'thi', 'subset', 'of', 'ai', 'allow', 'machin', 'to', 'improv', 'their', 'perform', 'over', 'time', 'as', 'they', 'are', 'expos', 'to', 'more', 'data', 'deep', 'learn', 'a', 'subset', 'of', 'machin', 'learn', 'ha', 'gain', 'signific', 'attent', 'due', 'to', 'it', 'abil', 'to', 'process', 'vast', 'amount', 'of', 'data', 'and', 'extract', 'meaning', 'insight', 'from', 'it', 'applic', 'of', 'deep', 'learn', 'includ', 'imag', 'recognit', 'speech', 'recognit', 'and', 'even', 'autonom', 'drive', 'anoth', 'import', 'area', 'of', 'ai', 'is', 'natur', 'languag', 'process', 'nlp', 'which', 'enabl', 'comput', 'to', 'understand', 'and', 'gener', 'human', 'languag', 'nlp', 'is', 'use', 'in', 'a', 'varieti', 'of', 'applic', 'such', 'as', 'chatbot', 'languag', 'translat', 'sentiment', 'analysi', 'and', 'text', 'summar', 'the', 'rise', 'of', 'virtual', 'assist', 'like', 'siri', 'alexa', 'and', 'googl', 'assist', 'ha', 'shown', 'the', 'potenti', 'of', 'nlp', 'to', 'transform', 'the', 'way', 'we', 'interact', 'with', 'technolog', 'ai', 'ha', 'the', 'potenti', 'to', 'revolution', 'mani', 'industri', 'includ', 'healthcar', 'financ', 'educ', 'and', 'manufactur', 'in', 'healthcar', 'ai', 'can', 'assist', 'in', 'diagnos', 'diseas', 'recommend', 'treatment', 'plan', 'and', 'analyz', 'medic', 'data', 'in', 'financ', 'ai', 'can', 'help', 'with', 'fraud', 'detect', 'algorithm', 'trade', 'and', 'custom', 'servic', 'in', 'educ', 'ai-pow', 'tool', 'can', 'provid', 'person', 'learn', 'experi', 'while', 'in', 'manufactur', 'ai', 'can', 'improv', 'autom', 'optim', 'suppli', 'chain', 'and', 'predict', 'mainten', 'need', 'howev', 'the', 'rise', 'of', 'ai', 'also', 'present', 'challeng', 'ethic', 'concern', 'surround', 'privaci', 'job', 'displac', 'and', 'decision-mak', 'transpar', 'need', 'to', 'be', 'address', 'as', 'ai', 'system', 'becom', 'more', 'autonom', 'ensur', 'that', 'they', 'align', 'with', 'human', 'valu', 'and', 'principl', 'is', 'crucial', 'furthermor', 'the', 'develop', 'of', 'ai', 'requir', 'collabor', 'between', 'govern', 'industri', 'and', 'academ', 'institut', 'to', 'establish', 'proper', 'regul', 'and', 'guidelin', 'the', 'futur', 'of', 'ai', 'is', 'both', 'excit', 'and', 'uncertain', 'while', 'we', 'are', 'just', 'scratch', 'the', 'surfac', 'of', 'what', 'ai', 'can', 'achiev', 'there', 'is', 'no', 'doubt', 'that', 'it', 'will', 'continu', 'to', 'shape', 'the', 'futur', 'of', 'human', 'the', 'possibl', 'are', 'endless', 'and', 'with', 'the', 'right', 'approach', 'ai', 'can', 'be', 'use', 'to', 'address', 'some', 'of', 'the', 'world', '’', 's', 'most', 'press', 'challeng']\n"
          ]
        }
      ],
      "source": [
        "from nltk.stem.porter import PorterStemmer\n",
        "stemmer = PorterStemmer()\n",
        "\n",
        "stemmed_tokens = [stemmer.stem(token) for token in punctuation_remove]\n",
        "print(f\"Stemmed Tokens :{stemmed_tokens}\")"
      ]
    },
    {
      "cell_type": "markdown",
      "id": "c50ddefd-b712-43da-8f43-c52f9eda45fa",
      "metadata": {
        "id": "c50ddefd-b712-43da-8f43-c52f9eda45fa"
      },
      "source": [
        "## Lemmatizing"
      ]
    },
    {
      "cell_type": "code",
      "execution_count": null,
      "id": "526fa0be-cab9-4ca4-8740-a3f2f0177da1",
      "metadata": {
        "colab": {
          "base_uri": "https://localhost:8080/"
        },
        "id": "526fa0be-cab9-4ca4-8740-a3f2f0177da1",
        "outputId": "05886f55-1bca-4780-a5c0-b860488f10f7"
      },
      "outputs": [
        {
          "output_type": "stream",
          "name": "stdout",
          "text": [
            "Lemmatized Tokens: ['Artificial', 'Intelligence', 'AI', 'is', 'a', 'rapidly', 'growing', 'field', 'of', 'computer', 'science', 'that', 'focus', 'on', 'creating', 'machine', 'capable', 'of', 'performing', 'task', 'that', 'typically', 'require', 'human', 'intelligence', 'The', 'history', 'of', 'AI', 'date', 'back', 'to', 'the', '1950s', 'when', 'pioneer', 'like', 'Alan', 'Turing', 'and', 'John', 'McCarthy', 'laid', 'the', 'groundwork', 'for', 'future', 'development', 'Today', 'AI', 'is', 'at', 'the', 'forefront', 'of', 'many', 'technological', 'advancement', 'with', 'application', 'spanning', 'from', 'machine', 'learning', 'natural', 'language', 'processing', 'robotics', 'and', 'computer', 'vision', 'One', 'of', 'the', 'most', 'exciting', 'area', 'of', 'AI', 'is', 'machine', 'learning', 'ML', 'where', 'algorithm', 'are', 'trained', 'to', 'identify', 'pattern', 'and', 'make', 'decision', 'based', 'on', 'data', 'This', 'subset', 'of', 'AI', 'allows', 'machine', 'to', 'improve', 'their', 'performance', 'over', 'time', 'a', 'they', 'are', 'exposed', 'to', 'more', 'data', 'Deep', 'learning', 'a', 'subset', 'of', 'machine', 'learning', 'ha', 'gained', 'significant', 'attention', 'due', 'to', 'it', 'ability', 'to', 'process', 'vast', 'amount', 'of', 'data', 'and', 'extract', 'meaningful', 'insight', 'from', 'it', 'Applications', 'of', 'deep', 'learning', 'include', 'image', 'recognition', 'speech', 'recognition', 'and', 'even', 'autonomous', 'driving', 'Another', 'important', 'area', 'of', 'AI', 'is', 'natural', 'language', 'processing', 'NLP', 'which', 'enables', 'computer', 'to', 'understand', 'and', 'generate', 'human', 'language', 'NLP', 'is', 'used', 'in', 'a', 'variety', 'of', 'application', 'such', 'a', 'chatbots', 'language', 'translation', 'sentiment', 'analysis', 'and', 'text', 'summarization', 'The', 'rise', 'of', 'virtual', 'assistant', 'like', 'Siri', 'Alexa', 'and', 'Google', 'Assistant', 'ha', 'shown', 'the', 'potential', 'of', 'NLP', 'to', 'transform', 'the', 'way', 'we', 'interact', 'with', 'technology', 'AI', 'ha', 'the', 'potential', 'to', 'revolutionize', 'many', 'industry', 'including', 'healthcare', 'finance', 'education', 'and', 'manufacturing', 'In', 'healthcare', 'AI', 'can', 'assist', 'in', 'diagnosing', 'disease', 'recommending', 'treatment', 'plan', 'and', 'analyzing', 'medical', 'data', 'In', 'finance', 'AI', 'can', 'help', 'with', 'fraud', 'detection', 'algorithmic', 'trading', 'and', 'customer', 'service', 'In', 'education', 'AI-powered', 'tool', 'can', 'provide', 'personalized', 'learning', 'experience', 'while', 'in', 'manufacturing', 'AI', 'can', 'improve', 'automation', 'optimize', 'supply', 'chain', 'and', 'predict', 'maintenance', 'need', 'However', 'the', 'rise', 'of', 'AI', 'also', 'present', 'challenge', 'Ethical', 'concern', 'surrounding', 'privacy', 'job', 'displacement', 'and', 'decision-making', 'transparency', 'need', 'to', 'be', 'addressed', 'As', 'AI', 'system', 'become', 'more', 'autonomous', 'ensuring', 'that', 'they', 'align', 'with', 'human', 'value', 'and', 'principle', 'is', 'crucial', 'Furthermore', 'the', 'development', 'of', 'AI', 'requires', 'collaboration', 'between', 'government', 'industry', 'and', 'academic', 'institution', 'to', 'establish', 'proper', 'regulation', 'and', 'guideline', 'The', 'future', 'of', 'AI', 'is', 'both', 'exciting', 'and', 'uncertain', 'While', 'we', 'are', 'just', 'scratching', 'the', 'surface', 'of', 'what', 'AI', 'can', 'achieve', 'there', 'is', 'no', 'doubt', 'that', 'it', 'will', 'continue', 'to', 'shape', 'the', 'future', 'of', 'humanity', 'The', 'possibility', 'are', 'endless', 'and', 'with', 'the', 'right', 'approach', 'AI', 'can', 'be', 'used', 'to', 'address', 'some', 'of', 'the', 'world', '’', 's', 'most', 'pressing', 'challenge']\n"
          ]
        }
      ],
      "source": [
        "from nltk.stem import WordNetLemmatizer\n",
        "\n",
        "lemmatizer = WordNetLemmatizer()\n",
        "\n",
        "lemmatized_tokens = [lemmatizer.lemmatize(token) for token in punctuation_remove]\n",
        "print(f\"Lemmatized Tokens: {lemmatized_tokens}\")"
      ]
    },
    {
      "cell_type": "code",
      "execution_count": null,
      "id": "1f8c6571-559b-4502-9072-53715e05b7ad",
      "metadata": {
        "id": "1f8c6571-559b-4502-9072-53715e05b7ad"
      },
      "outputs": [],
      "source": []
    }
  ],
  "metadata": {
    "kernelspec": {
      "display_name": "Python 3 (ipykernel)",
      "language": "python",
      "name": "python3"
    },
    "language_info": {
      "codemirror_mode": {
        "name": "ipython",
        "version": 3
      },
      "file_extension": ".py",
      "mimetype": "text/x-python",
      "name": "python",
      "nbconvert_exporter": "python",
      "pygments_lexer": "ipython3",
      "version": "3.12.8"
    },
    "colab": {
      "provenance": []
    }
  },
  "nbformat": 4,
  "nbformat_minor": 5
}