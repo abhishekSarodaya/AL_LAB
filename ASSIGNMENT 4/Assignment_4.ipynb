{
  "nbformat": 4,
  "nbformat_minor": 0,
  "metadata": {
    "colab": {
      "provenance": []
    },
    "kernelspec": {
      "name": "python3",
      "display_name": "Python 3"
    },
    "language_info": {
      "name": "python"
    }
  },
  "cells": [
    {
      "cell_type": "code",
      "execution_count": 1,
      "metadata": {
        "colab": {
          "base_uri": "https://localhost:8080/"
        },
        "id": "WpvqeCDAfcCv",
        "outputId": "de36b205-0297-40da-b08b-05d1ca4db407"
      },
      "outputs": [
        {
          "output_type": "stream",
          "name": "stderr",
          "text": [
            "[nltk_data] Downloading package punkt to /root/nltk_data...\n",
            "[nltk_data]   Unzipping tokenizers/punkt.zip.\n",
            "[nltk_data] Downloading package stopwords to /root/nltk_data...\n",
            "[nltk_data]   Unzipping corpora/stopwords.zip.\n",
            "[nltk_data] Downloading package wordnet to /root/nltk_data...\n",
            "[nltk_data] Downloading package punkt_tab to /root/nltk_data...\n",
            "[nltk_data]   Unzipping tokenizers/punkt_tab.zip.\n"
          ]
        },
        {
          "output_type": "stream",
          "name": "stdout",
          "text": [
            "Original Text: Both Talmuds are arranged according to the six orders of the Mishnah, but the discussion of the Mishnic text often wanders off into widely different topics.\n",
            "\n",
            "Tokenized Words: ['Both', 'Talmuds', 'are', 'arranged', 'according', 'to', 'the', 'six', 'orders', 'of', 'the', 'Mishnah', ',', 'but', 'the', 'discussion', 'of', 'the', 'Mishnic', 'text', 'often', 'wanders', 'off', 'into', 'widely', 'different', 'topics', '.']\n",
            "\n",
            "Tokenized Sentences: ['Both Talmuds are arranged according to the six orders of the Mishnah, but the discussion of the Mishnic text often wanders off into widely different topics.']\n",
            "\n",
            "Filtered Words (Stopword Removal): ['Talmuds', 'arranged', 'according', 'six', 'orders', 'Mishnah', ',', 'discussion', 'Mishnic', 'text', 'often', 'wanders', 'widely', 'different', 'topics', '.']\n",
            "\n",
            "Stemmed Words: ['talmud', 'arrang', 'accord', 'six', 'order', 'mishnah', ',', 'discuss', 'mishnic', 'text', 'often', 'wander', 'wide', 'differ', 'topic', '.']\n",
            "\n",
            "Lemmatized Words: ['Talmuds', 'arranged', 'according', 'six', 'order', 'Mishnah', ',', 'discussion', 'Mishnic', 'text', 'often', 'wanders', 'widely', 'different', 'topic', '.']\n"
          ]
        }
      ],
      "source": [
        "sample_text = \"Both Talmuds are arranged according to the six orders of the Mishnah, but the discussion of the Mishnic text often wanders off into widely different topics.\"\n",
        "\n",
        "# Importing Libraries\n",
        "import nltk\n",
        "from nltk.tokenize import word_tokenize, sent_tokenize\n",
        "from nltk.corpus import stopwords\n",
        "from nltk.stem import PorterStemmer, WordNetLemmatizer\n",
        "\n",
        "# Download required datasets\n",
        "nltk.download('punkt')\n",
        "nltk.download('stopwords')\n",
        "nltk.download('wordnet')\n",
        "nltk.download('punkt_tab')\n",
        "\n",
        "# Tokenization\n",
        "words = word_tokenize(sample_text)\n",
        "sentences = sent_tokenize(sample_text)\n",
        "\n",
        "# Stopword Removal\n",
        "stop_words = set(stopwords.words('english'))\n",
        "filtered_words = [word for word in words if word.lower() not in stop_words]\n",
        "\n",
        "# Stemming\n",
        "stemmer = PorterStemmer()\n",
        "stemmed_words = [stemmer.stem(word) for word in filtered_words]\n",
        "\n",
        "# Lemmatization\n",
        "lemmatizer = WordNetLemmatizer()\n",
        "lemmatized_words = [lemmatizer.lemmatize(word) for word in filtered_words]\n",
        "\n",
        "# Output Results\n",
        "print(\"Original Text:\", sample_text)\n",
        "print(\"\\nTokenized Words:\", words)\n",
        "print(\"\\nTokenized Sentences:\", sentences)\n",
        "print(\"\\nFiltered Words (Stopword Removal):\", filtered_words)\n",
        "print(\"\\nStemmed Words:\", stemmed_words)\n",
        "print(\"\\nLemmatized Words:\", lemmatized_words)"
      ]
    },
    {
      "cell_type": "code",
      "source": [],
      "metadata": {
        "id": "zHJp0eUtfgeR"
      },
      "execution_count": null,
      "outputs": []
    }
  ]
}