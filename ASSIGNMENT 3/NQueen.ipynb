{
  "nbformat": 4,
  "nbformat_minor": 0,
  "metadata": {
    "colab": {
      "provenance": []
    },
    "kernelspec": {
      "name": "python3",
      "display_name": "Python 3"
    },
    "language_info": {
      "name": "python"
    }
  },
  "cells": [
    {
      "cell_type": "code",
      "execution_count": null,
      "metadata": {
        "id": "N0L-1F1wedaB"
      },
      "outputs": [],
      "source": [
        "N = 8\n",
        "def solveNQueens(boards, col):\n",
        "    if col == N:\n",
        "        printBoard(board)\n",
        "        return True\n",
        "    for i in range(N):\n",
        "        if isSafe(board, i, col):\n",
        "            board[i][col] = 1\n",
        "            if solveNQueens(board, col + 1):\n",
        "                return True\n",
        "            board[i][col] = 0\n",
        "    return False\n",
        "\n",
        "def isSafe(board, row, col):\n",
        "    for x in range(col):\n",
        "        if board[row][x] == 1:\n",
        "            return False\n",
        "\n",
        "    for x, y in zip(range(row, -1, -1), range(col, -1, -1)):\n",
        "        if board[x][y] == 1:\n",
        "            return False\n",
        "\n",
        "    for x, y in zip(range(row, N, 1), range(col, -1, -1)):\n",
        "        if board[x][y] == 1:\n",
        "            return False\n",
        "\n",
        "    return True\n",
        "\n",
        "def printBoard(board):\n",
        "    for row in board:\n",
        "        print(\" \".join(\"Q\" if x == 1 else \".\" for x in row))\n",
        "    print()\n",
        "\n",
        "board = [[0 for x in range(N)] for y in range(N)]\n",
        "if not solveNQueens(board, 0):\n",
        "    print(\"No solution found\")"
      ]
    }
  ]
}