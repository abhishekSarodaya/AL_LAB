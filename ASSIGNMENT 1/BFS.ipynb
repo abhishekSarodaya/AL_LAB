{
  "nbformat": 4,
  "nbformat_minor": 0,
  "metadata": {
    "colab": {
      "provenance": []
    },
    "kernelspec": {
      "name": "python3",
      "display_name": "Python 3"
    },
    "language_info": {
      "name": "python"
    }
  },
  "cells": [
    {
      "cell_type": "code",
      "execution_count": 3,
      "metadata": {
        "colab": {
          "base_uri": "https://localhost:8080/"
        },
        "id": "TXEdyjLaX3j9",
        "outputId": "3a183a92-8d3b-46ca-fe23-406c6e5cddde"
      },
      "outputs": [
        {
          "output_type": "stream",
          "name": "stdout",
          "text": [
            "BFS Traversal: ['A', 'B', 'C', 'D', 'E', 'F', 'G', 'H']\n"
          ]
        }
      ],
      "source": [
        "from collections import deque\n",
        "\n",
        "def bfs(graph, start):\n",
        "    visited = set()\n",
        "    queue = deque([start])\n",
        "    result = []\n",
        "\n",
        "    while queue:\n",
        "        node = queue.popleft()\n",
        "        if node not in visited:\n",
        "            visited.add(node)\n",
        "            result.append(node)\n",
        "            queue.extend(neighbor for neighbor in graph[node] if neighbor not in visited)\n",
        "\n",
        "    return result\n",
        "\n",
        "graph = {\n",
        "    'A': ['B', 'C'],\n",
        "    'B': ['A', 'D', 'E'],\n",
        "    'C': ['A', 'F', 'G'],\n",
        "    'D': ['B'],\n",
        "    'E': ['B', 'H'],\n",
        "    'F': ['C'],\n",
        "    'G': ['C'],\n",
        "    'H': ['E']\n",
        "}\n",
        "\n",
        "start_node = 'A'\n",
        "print(\"BFS Traversal:\", bfs(graph, start_node))"
      ]
    },
    {
      "cell_type": "code",
      "source": [],
      "metadata": {
        "id": "5NeeFDrcX55A"
      },
      "execution_count": null,
      "outputs": []
    }
  ]
}